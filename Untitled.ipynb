{
 "cells": [
  {
   "cell_type": "code",
   "execution_count": 12,
   "metadata": {},
   "outputs": [
    {
     "name": "stdout",
     "output_type": "stream",
     "text": [
      "Ingrese la aceleración del objeto-9.8\n",
      "Ingrese la posición inicial horizontal del objeto0\n",
      "Ingrese la posición inicial vertical del objeto0\n",
      "Ingrese la rapidez inicial del objeto1\n",
      "INgrese el angulo de lanzamiento en grados45\n",
      "[0.0, 0.0]\n"
     ]
    }
   ],
   "source": [
    "import math\n",
    "a=float(input(\"Ingrese la aceleración del objeto\"))\n",
    "x0=float(input(\"Ingrese la posición inicial horizontal del objeto\"))\n",
    "y0=float(input(\"Ingrese la posición inicial vertical del objeto\"))\n",
    "v0=float(input(\"Ingrese la rapidez inicial del objeto\"))\n",
    "dire=float(input(\"INgrese el angulo de lanzamiento en grados\"))\n",
    "v0c=[v0*math.cos(math.radians(dire)),v0*math.sin(math.radians(dire))]\n",
    "x=lambda t:x0+v0c[0]*t\n",
    "y=lambda t:y0+v0c[1]*t+0.5*a*t**2\n",
    "r=lambda t:[x(t),y(t)]\n",
    "print(r(0))"
   ]
  },
  {
   "cell_type": "code",
   "execution_count": 5,
   "metadata": {
    "scrolled": true
   },
   "outputs": [
    {
     "data": {
      "text/plain": [
       "1.0"
      ]
     },
     "execution_count": 5,
     "metadata": {},
     "output_type": "execute_result"
    }
   ],
   "source": []
  },
  {
   "cell_type": "code",
   "execution_count": 3,
   "metadata": {
    "scrolled": true
   },
   "outputs": [
    {
     "ename": "NameError",
     "evalue": "name 'cos' is not defined",
     "output_type": "error",
     "traceback": [
      "\u001b[1;31m---------------------------------------------------------------------------\u001b[0m",
      "\u001b[1;31mNameError\u001b[0m                                 Traceback (most recent call last)",
      "\u001b[1;32m<ipython-input-3-8d215ebe8f10>\u001b[0m in \u001b[0;36m<module>\u001b[1;34m\u001b[0m\n\u001b[1;32m----> 1\u001b[1;33m \u001b[0mcos\u001b[0m\u001b[1;33m(\u001b[0m\u001b[1;36m0\u001b[0m\u001b[1;33m)\u001b[0m\u001b[1;33m\u001b[0m\u001b[1;33m\u001b[0m\u001b[0m\n\u001b[0m",
      "\u001b[1;31mNameError\u001b[0m: name 'cos' is not defined"
     ]
    }
   ],
   "source": []
  },
  {
   "cell_type": "code",
   "execution_count": null,
   "metadata": {},
   "outputs": [],
   "source": []
  }
 ],
 "metadata": {
  "kernelspec": {
   "display_name": "Python 3",
   "language": "python",
   "name": "python3"
  },
  "language_info": {
   "codemirror_mode": {
    "name": "ipython",
    "version": 3
   },
   "file_extension": ".py",
   "mimetype": "text/x-python",
   "name": "python",
   "nbconvert_exporter": "python",
   "pygments_lexer": "ipython3",
   "version": "3.8.3"
  }
 },
 "nbformat": 4,
 "nbformat_minor": 4
}
