{
 "cells": [
  {
   "cell_type": "markdown",
   "metadata": {},
   "source": [
    "# Proyecto 1\n",
    "## Parte 1\n",
    "Se desea graficar la trayectoria de una bola de béisbol que se lanza desde cierta posición inicial $\\vec{r_0}$ ángulo de lanzamiento $\\theta_0$ y rapidez inicial $v_0$. La trayectoria $\\vec{r(t)}=(x(t),y(t))$ está dada por:\n",
    "$$y(t)=y_0+v_{0y}\\,t-\\frac{1}{2}\\,g\\,t^2$$\n",
    "$$x(t)=x_0+v_{0x}\\,t$$\n",
    "Donde $\\vec{r_0}=(x_0,y_0)$ es la posición inicial del objeto y $(v_{0x},v_{0y})=(v_0\\,\\cos(\\theta_0),v_0\\,\\sin(\\theta_0))$ son las componentes de la velocidad inicial.\n",
    "\n",
    "De la ecuación que describe la posición en $y$ se puede encontrar el tiempo decaída de la bola y la posición horizontal final en x, resultando en:\n",
    "$$t_{fall}=\\frac{v_{0y}+\\sqrt{v_{0y}^2+2\\,y_0\\,g}}{g}$$\n",
    "$$x_{fall}=x(t_{fall})$$\n",
    "Utilizando estos resultados, se ejecuta el código a continuación para encontrar la trayectoria (donde $y=0$ representa el nivel del suelo)$:"
   ]
  },
  {
   "cell_type": "code",
   "execution_count": 12,
   "metadata": {},
   "outputs": [
    {
     "name": "stdout",
     "output_type": "stream",
     "text": [
      "Ola ke ase\n",
      "Ingrese la posición inicial horizontal de la bola en metros: 0\n",
      "Ingrese la posición inicial vertical de la bola en metros: 10\n",
      "Ingrese la rapidez inicial del objeto en m/s: 20\n",
      "Ingrese el angulo de lanzamiento en grados: 50\n",
      "La trayectoria que el objeto traza es:\n",
      "------------------\n"
     ]
    },
    {
     "data": {
      "image/png": "[encoded data removed]",
      "text/plain": [
       "<Figure size 432x288 with 1 Axes>"
      ]
     },
     "metadata": {
      "needs_background": "light"
     },
     "output_type": "display_data"
    },
    {
     "name": "stdout",
     "output_type": "stream",
     "text": [
      "------------------\n",
      "La bola tarda 3.68 s en caer a nivel del suelo, habiendo recorrido 47.32 m horizontalmente.\n"
     ]
    }
   ],
   "source": [
    "from math import sin, cos, radians,sqrt\n",
    "import matplotlib.pyplot as plt\n",
    "import numpy as np\n",
    "print(\"Ola ke ase\")\n",
    "g=9.8\n",
    "mrua=lambda t,X0,V0,a:X0+V0*t+0.5*a*t**2\n",
    "#X0: posición inicial, V0: velocidad inicial\n",
    "#Movimiento parabólico\n",
    "y=lambda t,X0,V0:mrua(t,X0,V0,-9.8)\n",
    "x=lambda t,X0,V0:mrua(t,X0,V0,0)\n",
    "r=lambda t,R0,V0,theta:[x(t,R0[0],V0*cos(radians(theta))),y(t,R0[1],V0*sin(radians(theta)))]\n",
    "#r0: Vector de posición inicial [x0,y0]; theta: ángulo de lanzamiento\n",
    "#Recopilación de información sobre el lanzamiento\n",
    "x0=float(input(\"Ingrese la posición inicial horizontal de la bola en metros: \"))\n",
    "y0=float(input(\"Ingrese la posición inicial vertical de la bola en metros: \"))\n",
    "r0=[x0,y0]\n",
    "v0=float(input(\"Ingrese la rapidez inicial del objeto en m/s: \"))\n",
    "dire=float(input(\"Ingrese el angulo de lanzamiento en grados: \"))\n",
    "v0=[v0*cos(radians(dire)),v0*sin(radians(dire))]\n",
    "#Encontrar tiempo de caída para poder graficar \n",
    "tfall=float((v0[1]+sqrt(v0[1]**2+2*y0*g))/g)\n",
    "xfall=x(tfall,x0,v0[0])\n",
    "trange=np.arange(0,tfall,tfall/100)\n",
    "yrange=lambda t:y(t,y0,v0[1])\n",
    "yrange=list(map(yrange,trange))\n",
    "xrange=lambda t:x(t,x0,v0[0])\n",
    "xrange=list(map(xrange,trange))\n",
    "print(\"La trayectoria que el objeto traza es:\")\n",
    "print(\"------------------\")\n",
    "plt.plot(xrange,yrange)\n",
    "plt.title(\"Trayectoria trazada por el proyectil\")\n",
    "plt.xlabel(\"Posición horizontal (m)\")\n",
    "plt.ylabel(\"Posición final (m)\")\n",
    "plt.show()\n",
    "print(\"------------------\")\n",
    "print(f\"La bola tarda {round(tfall,2)} s en caer a nivel del suelo, habiendo recorrido {round(xfall,2)} m horizontalmente.\")\n",
    "\n",
    "\n"
   ]
  },
  {
   "cell_type": "markdown",
   "metadata": {},
   "source": [
    "## Parte 2\n",
    "Un jugador se encuentra a una distancia $m$ desde el punto de lanzamiento de la bola y puede correr con una aceleración constante $a$. Si se proveen estos datos, ¿cuánto tiempo después de que se lance la bola tiene que comenzar a correr (obviamente, partiendo del reposo) este jugador para lograr atraparla cuando esta llegue al suelo?\n",
    "\n",
    "Asumiendo que el jugador parte un tiempo $t_0$ después del lanzamiento de la bola y que se conoce, de la ecuación de movimiento uniformemente acelerado MRUA $x(t)=x_{0j}+v_{0j}\\,t_j+a\\,t_j^2/2$, donde $t_j$ es el tiempo que el jugador lleva corriendo $t_j=t_{bola}-t_0$ y $x_{0j}=x_0+m$ es la posición horizontal inicial del jugador, se puede analizar el momento en quela bola llega al nivel del suelo para encontrar:\n",
    "\n",
    "$$t_0=t_{fall}-\\sqrt{\\frac{2\\,(x_{fall}-x_0-m)}{a}}$$"
   ]
  },
  {
   "cell_type": "code",
   "execution_count": 15,
   "metadata": {},
   "outputs": [
    {
     "name": "stdout",
     "output_type": "stream",
     "text": [
      "Ingresar la distancia desde la posición de lanzamiento de la bola de béisbol en metros:30\n",
      "Ingrese la aceleración que lleva el jugador en m/s^2: 5\n",
      "------------------\n",
      "Para que el jugar a 30.0 m del lanzamiento de la bola que empieza a correr con aceleración 5.0 en m/s^2 alcance\n",
      "la bola, debe empezar a correr 1.05 s luego del lanzamiento de la bola, corriendo 2.63 s para alcanzarla\n"
     ]
    }
   ],
   "source": [
    "m=float(input(\"Ingresar la distancia desde la posición de lanzamiento de la bola de béisbol en metros:\"))\n",
    "x0j=x0+m\n",
    "a=float(input(\"Ingrese la aceleración que lleva el jugador en m/s^2: \"))\n",
    "t0=tfall-sqrt(2*(xfall-x0j)/a)\n",
    "print(\"------------------\")\n",
    "if t0<=0:\n",
    "    print(f\"Con aceleración {a} m/s^2 y a {m} m desde el punto del lanzamiento, no puede alcanzar la bola \")\n",
    "else: \n",
    "    print(f\"Para que el jugar a {m} m del lanzamiento de la bola que empieza a correr con aceleración {a} en m/s^2 alcance\")\n",
    "    print(f\"la bola, debe empezar a correr {round(t0,2)} s luego del lanzamiento de la bola, corriendo {round(tfall-t0,2)} s para alcanzarla\")"
   ]
  }
 ],
 "metadata": {
  "kernelspec": {
   "display_name": "Python 3",
   "language": "python",
   "name": "python3"
  }
 },
 "nbformat": 4,
 "nbformat_minor": 4
}
